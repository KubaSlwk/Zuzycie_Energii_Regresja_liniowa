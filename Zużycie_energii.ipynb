{
 "cells": [
  {
   "cell_type": "markdown",
   "id": "8f64d712-fa1f-4e75-b9d7-9975dc4319d8",
   "metadata": {},
   "source": [
    "\n",
    "# Prognozowanie zużycia energii na podstawie właściwości budynku oraz czynników środowiskowych\n",
    "\n",
    "**Autor**: Jakub Kucharzewski\n",
    "\n",
    "**Data**: 2025-06-09\n",
    "\n",
    "\n",
    "# Wprowadzenie\n",
    "\n",
    "Celem niniejszej analizy jest zbudowanie modelu regresji liniowej służącego do prognozowania zużycia energii na podstawie cech budynków oraz wybranych czynników środowiskowych.\n",
    "\n",
    "Wykorzystany zbiór danych pochodzi z platformy Kaggle i zawiera informacje dotyczące różnych typów budynków, ich powierzchni użytkowej, liczby użytkowników, liczby używanych urządzeń, średniej temperatury otoczenia oraz dnia tygodnia.\n",
    "\n",
    "# Wczytanie i eksploracja danych\n",
    "\n",
    "Na początku wczytałem dane treningowe i testowe, a następnie sprawdziłem ich typy zmiennych oraz liczbę obserwacji. Zidentyfikowałem ewentualne brakujące wartości i przeanalizowałem podstawowe statystyki opisowe.\n",
    "\n",
    "Użyte biblioteki: ggplot2, corrplot, DescTools, MASS, rlang, ggfortify."
   ]
  },
  {
   "cell_type": "code",
   "execution_count": 9,
   "id": "baa461b6-268f-4f27-8349-8e7ef6c946cc",
   "metadata": {},
   "outputs": [
    {
     "data": {
      "text/html": [
       "<table class=\"dataframe\">\n",
       "<caption>A data.frame: 6 × 7</caption>\n",
       "<thead>\n",
       "\t<tr><th></th><th scope=col>Building.Type</th><th scope=col>Square.Footage</th><th scope=col>Number.of.Occupants</th><th scope=col>Appliances.Used</th><th scope=col>Average.Temperature</th><th scope=col>Day.of.Week</th><th scope=col>Energy.Consumption</th></tr>\n",
       "\t<tr><th></th><th scope=col>&lt;chr&gt;</th><th scope=col>&lt;int&gt;</th><th scope=col>&lt;int&gt;</th><th scope=col>&lt;int&gt;</th><th scope=col>&lt;dbl&gt;</th><th scope=col>&lt;chr&gt;</th><th scope=col>&lt;dbl&gt;</th></tr>\n",
       "</thead>\n",
       "<tbody>\n",
       "\t<tr><th scope=row>1</th><td>Residential</td><td> 7063</td><td>76</td><td>10</td><td>29.84</td><td>Weekday</td><td>2713.95</td></tr>\n",
       "\t<tr><th scope=row>2</th><td>Commercial </td><td>44372</td><td>66</td><td>45</td><td>16.72</td><td>Weekday</td><td>5744.99</td></tr>\n",
       "\t<tr><th scope=row>3</th><td>Industrial </td><td>19255</td><td>37</td><td>17</td><td>14.30</td><td>Weekend</td><td>4101.24</td></tr>\n",
       "\t<tr><th scope=row>4</th><td>Residential</td><td>13265</td><td>14</td><td>41</td><td>32.82</td><td>Weekday</td><td>3009.14</td></tr>\n",
       "\t<tr><th scope=row>5</th><td>Commercial </td><td>13375</td><td>26</td><td>18</td><td>11.92</td><td>Weekday</td><td>3279.17</td></tr>\n",
       "\t<tr><th scope=row>6</th><td>Commercial </td><td>37377</td><td>26</td><td>32</td><td>16.24</td><td>Weekend</td><td>4687.67</td></tr>\n",
       "</tbody>\n",
       "</table>\n"
      ],
      "text/latex": [
       "A data.frame: 6 × 7\n",
       "\\begin{tabular}{r|lllllll}\n",
       "  & Building.Type & Square.Footage & Number.of.Occupants & Appliances.Used & Average.Temperature & Day.of.Week & Energy.Consumption\\\\\n",
       "  & <chr> & <int> & <int> & <int> & <dbl> & <chr> & <dbl>\\\\\n",
       "\\hline\n",
       "\t1 & Residential &  7063 & 76 & 10 & 29.84 & Weekday & 2713.95\\\\\n",
       "\t2 & Commercial  & 44372 & 66 & 45 & 16.72 & Weekday & 5744.99\\\\\n",
       "\t3 & Industrial  & 19255 & 37 & 17 & 14.30 & Weekend & 4101.24\\\\\n",
       "\t4 & Residential & 13265 & 14 & 41 & 32.82 & Weekday & 3009.14\\\\\n",
       "\t5 & Commercial  & 13375 & 26 & 18 & 11.92 & Weekday & 3279.17\\\\\n",
       "\t6 & Commercial  & 37377 & 26 & 32 & 16.24 & Weekend & 4687.67\\\\\n",
       "\\end{tabular}\n"
      ],
      "text/markdown": [
       "\n",
       "A data.frame: 6 × 7\n",
       "\n",
       "| <!--/--> | Building.Type &lt;chr&gt; | Square.Footage &lt;int&gt; | Number.of.Occupants &lt;int&gt; | Appliances.Used &lt;int&gt; | Average.Temperature &lt;dbl&gt; | Day.of.Week &lt;chr&gt; | Energy.Consumption &lt;dbl&gt; |\n",
       "|---|---|---|---|---|---|---|---|\n",
       "| 1 | Residential |  7063 | 76 | 10 | 29.84 | Weekday | 2713.95 |\n",
       "| 2 | Commercial  | 44372 | 66 | 45 | 16.72 | Weekday | 5744.99 |\n",
       "| 3 | Industrial  | 19255 | 37 | 17 | 14.30 | Weekend | 4101.24 |\n",
       "| 4 | Residential | 13265 | 14 | 41 | 32.82 | Weekday | 3009.14 |\n",
       "| 5 | Commercial  | 13375 | 26 | 18 | 11.92 | Weekday | 3279.17 |\n",
       "| 6 | Commercial  | 37377 | 26 | 32 | 16.24 | Weekend | 4687.67 |\n",
       "\n"
      ],
      "text/plain": [
       "  Building.Type Square.Footage Number.of.Occupants Appliances.Used\n",
       "1 Residential    7063          76                  10             \n",
       "2 Commercial    44372          66                  45             \n",
       "3 Industrial    19255          37                  17             \n",
       "4 Residential   13265          14                  41             \n",
       "5 Commercial    13375          26                  18             \n",
       "6 Commercial    37377          26                  32             \n",
       "  Average.Temperature Day.of.Week Energy.Consumption\n",
       "1 29.84               Weekday     2713.95           \n",
       "2 16.72               Weekday     5744.99           \n",
       "3 14.30               Weekend     4101.24           \n",
       "4 32.82               Weekday     3009.14           \n",
       "5 11.92               Weekday     3279.17           \n",
       "6 16.24               Weekend     4687.67           "
      ]
     },
     "metadata": {},
     "output_type": "display_data"
    }
   ],
   "source": [
    "energy_data <- read.csv(\"train_energy_data.csv\")\n",
    "energy_test_data <- read.csv(\"test_energy_data.csv\")\n",
    "\n",
    "head(energy_data)"
   ]
  },
  {
   "cell_type": "markdown",
   "id": "27f63151-0dfe-4db6-b0d2-2487d36b49c9",
   "metadata": {},
   "source": [
    "### Suma pustych wartości"
   ]
  },
  {
   "cell_type": "code",
   "execution_count": 17,
   "id": "686ba231-8d24-48b9-bc79-6f769e20cced",
   "metadata": {},
   "outputs": [
    {
     "data": {
      "text/html": [
       "<style>\n",
       ".dl-inline {width: auto; margin:0; padding: 0}\n",
       ".dl-inline>dt, .dl-inline>dd {float: none; width: auto; display: inline-block}\n",
       ".dl-inline>dt::after {content: \":\\0020\"; padding-right: .5ex}\n",
       ".dl-inline>dt:not(:first-of-type) {padding-left: .5ex}\n",
       "</style><dl class=dl-inline><dt>Building.Type</dt><dd>0</dd><dt>Square.Footage</dt><dd>0</dd><dt>Number.of.Occupants</dt><dd>0</dd><dt>Appliances.Used</dt><dd>0</dd><dt>Average.Temperature</dt><dd>0</dd><dt>Day.of.Week</dt><dd>0</dd><dt>Energy.Consumption</dt><dd>0</dd></dl>\n"
      ],
      "text/latex": [
       "\\begin{description*}\n",
       "\\item[Building.Type] 0\n",
       "\\item[Square.Footage] 0\n",
       "\\item[Number.of.Occupants] 0\n",
       "\\item[Appliances.Used] 0\n",
       "\\item[Average.Temperature] 0\n",
       "\\item[Day.of.Week] 0\n",
       "\\item[Energy.Consumption] 0\n",
       "\\end{description*}\n"
      ],
      "text/markdown": [
       "Building.Type\n",
       ":   0Square.Footage\n",
       ":   0Number.of.Occupants\n",
       ":   0Appliances.Used\n",
       ":   0Average.Temperature\n",
       ":   0Day.of.Week\n",
       ":   0Energy.Consumption\n",
       ":   0\n",
       "\n"
      ],
      "text/plain": [
       "      Building.Type      Square.Footage Number.of.Occupants     Appliances.Used \n",
       "                  0                   0                   0                   0 \n",
       "Average.Temperature         Day.of.Week  Energy.Consumption \n",
       "                  0                   0                   0 "
      ]
     },
     "metadata": {},
     "output_type": "display_data"
    }
   ],
   "source": [
    "colSums(is.na(energy_data))"
   ]
  },
  {
   "cell_type": "markdown",
   "id": "e2c3f8b7-e4cc-4cd2-8f2b-2fbff7209f38",
   "metadata": {},
   "source": [
    "### Statystyki opisowe"
   ]
  },
  {
   "cell_type": "code",
   "execution_count": 16,
   "id": "9210f64f-f467-4516-a423-4e8f3555352a",
   "metadata": {},
   "outputs": [
    {
     "data": {
      "text/plain": [
       "     Building.Type Square.Footage  Number.of.Occupants Appliances.Used\n",
       " Commercial :336   Min.   :  560   Min.   : 1.00       Min.   : 1.00  \n",
       " Industrial :317   1st Qu.:13170   1st Qu.:22.00       1st Qu.:13.00  \n",
       " Residential:347   Median :25477   Median :47.00       Median :26.00  \n",
       "                   Mean   :25462   Mean   :48.37       Mean   :25.61  \n",
       "                   3rd Qu.:37446   3rd Qu.:73.25       3rd Qu.:38.00  \n",
       "                   Max.   :49997   Max.   :99.00       Max.   :49.00  \n",
       " Average.Temperature  Day.of.Week  Energy.Consumption\n",
       " Min.   :10.05       Weekday:507   Min.   :1684      \n",
       " 1st Qu.:16.48       Weekend:493   1st Qu.:3509      \n",
       " Median :22.82                     Median :4176      \n",
       " Mean   :22.61                     Mean   :4166      \n",
       " 3rd Qu.:28.85                     3rd Qu.:4864      \n",
       " Max.   :34.99                     Max.   :6531      "
      ]
     },
     "metadata": {},
     "output_type": "display_data"
    }
   ],
   "source": [
    "summary(energy_data)"
   ]
  },
  {
   "cell_type": "markdown",
   "id": "5e9bb434-e466-429a-99af-e68b3175934f",
   "metadata": {},
   "source": [
    "### Typy danych"
   ]
  },
  {
   "cell_type": "code",
   "execution_count": 18,
   "id": "08bab2da-bc47-4ace-975b-1f8877322b3e",
   "metadata": {},
   "outputs": [
    {
     "name": "stdout",
     "output_type": "stream",
     "text": [
      "'data.frame':\t1000 obs. of  7 variables:\n",
      " $ Building.Type      : Factor w/ 3 levels \"Commercial\",\"Industrial\",..: 3 1 2 3 1 1 2 3 2 3 ...\n",
      " $ Square.Footage     : int  7063 44372 19255 13265 13375 37377 38638 34950 29741 17467 ...\n",
      " $ Number.of.Occupants: int  76 66 37 14 26 26 92 60 99 42 ...\n",
      " $ Appliances.Used    : int  10 45 17 41 18 32 14 18 44 36 ...\n",
      " $ Average.Temperature: num  29.8 16.7 14.3 32.8 11.9 ...\n",
      " $ Day.of.Week        : Factor w/ 2 levels \"Weekday\",\"Weekend\": 1 1 2 1 1 2 2 1 1 1 ...\n",
      " $ Energy.Consumption : num  2714 5745 4101 3009 3279 ...\n"
     ]
    }
   ],
   "source": [
    "str(energy_data)"
   ]
  },
  {
   "cell_type": "markdown",
   "id": "3517bd63-aad4-489a-8ed3-81d058ba20a7",
   "metadata": {},
   "source": [
    "### Zmiana zmiennych kategorycznych na typ faktorowy\n",
    "\n",
    "Zmienne kategoryczne przekonwertowałem na typ faktorowy, aby móc uwzględnić je w modelu regresji liniowej."
   ]
  },
  {
   "cell_type": "code",
   "execution_count": 15,
   "id": "4619fdad-2e79-49bc-b958-c24d1917fbbf",
   "metadata": {},
   "outputs": [],
   "source": [
    "energy_data$Day.of.Week <- as.factor(energy_data$Day.of.Week)\n",
    "energy_data$Building.Type <- as.factor(energy_data$Building.Type)\n",
    "energy_test_data$Day.of.Week <- as.factor(energy_test_data$Day.of.Week)\n",
    "energy_test_data$Building.Type <- as.factor(energy_test_data$Building.Type)"
   ]
  },
  {
   "cell_type": "markdown",
   "id": "652f9dd1-b5ae-4eb8-9769-29339101b1d7",
   "metadata": {},
   "source": [
    "# Analiza eksploracyjna i wizualizacja\n",
    "\n",
    "W celu zidentyfikowania zależności liniowych pomiędzy zmiennymi objaśniającymi a zużyciem energii, przeprowadziłem testy istotności współczynnika korelacji Pearsona. Testy pozwalają ocenić, czy istnieje statystycznie istotna korelacja między zmiennymi.\n",
    "\n",
    "### Test istotności współczynnika korelacji Pearsona\n",
    "|                             |                                       |\n",
    "|-----------------------------|---------------------------------------|\n",
    "| ***Hipoteza zerowa***       | Brak korelacji między zmiennymi.      |\n",
    "| ***Hipoteza alternatywna*** | Korelacja występuje między zmiennymi. |\n",
    "| ***Poziom istotności***     | 0.05                                  |\n",
    "\n",
    "**Wartość p:** Wartość p oznacza prawdopodobieństwo otrzymania wyniku tak samo lub bardziej skrajnego niż ten zaobserwowany w badaniu, przy założeniu, że hipoteza zerowa jest prawdziwa.\n",
    "\n",
    "**Interpretacja:** Gdy wartość p jest większa niż 0,05, nie ma podstaw do odrzucenia hipotezy zerowej. Natomiast jeśli wartość p jest równa lub mniejsza od 0,05, odrzucamy hipotezę zerową na rzecz hipotezy alternatywnej."
   ]
  },
  {
   "cell_type": "code",
   "execution_count": 19,
   "id": "1748f1ee-07e5-42d2-bd72-adc506978bef",
   "metadata": {},
   "outputs": [
    {
     "name": "stdout",
     "output_type": "stream",
     "text": [
      "[1] \"Square.Footage\"      \"Number.of.Occupants\" \"Appliances.Used\"    \n",
      "[4] \"Average.Temperature\"\n",
      "\n",
      "\tPearson's product-moment correlation\n",
      "\n",
      "data:  energy_data$Energy.Consumption and vars[[var]]\n",
      "t = 38.726, df = 998, p-value < 2.2e-16\n",
      "alternative hypothesis: true correlation is not equal to 0\n",
      "95 percent confidence interval:\n",
      " 0.7488519 0.7985080\n",
      "sample estimates:\n",
      "      cor \n",
      "0.7748726 \n",
      "\n",
      "\n",
      "\tPearson's product-moment correlation\n",
      "\n",
      "data:  energy_data$Energy.Consumption and vars[[var]]\n",
      "t = 11.976, df = 998, p-value < 2.2e-16\n",
      "alternative hypothesis: true correlation is not equal to 0\n",
      "95 percent confidence interval:\n",
      " 0.2990637 0.4075222\n",
      "sample estimates:\n",
      "      cor \n",
      "0.3544847 \n",
      "\n",
      "\n",
      "\tPearson's product-moment correlation\n",
      "\n",
      "data:  energy_data$Energy.Consumption and vars[[var]]\n",
      "t = 10.403, df = 998, p-value < 2.2e-16\n",
      "alternative hypothesis: true correlation is not equal to 0\n",
      "95 percent confidence interval:\n",
      " 0.2557580 0.3676556\n",
      "sample estimates:\n",
      "      cor \n",
      "0.3127917 \n",
      "\n",
      "\n",
      "\tPearson's product-moment correlation\n",
      "\n",
      "data:  energy_data$Energy.Consumption and vars[[var]]\n",
      "t = -1.0901, df = 998, p-value = 0.2759\n",
      "alternative hypothesis: true correlation is not equal to 0\n",
      "95 percent confidence interval:\n",
      " -0.09627441  0.02756486\n",
      "sample estimates:\n",
      "        cor \n",
      "-0.03448716 \n",
      "\n"
     ]
    }
   ],
   "source": [
    "num_data <- energy_data[sapply(energy_data, is.numeric)]\n",
    "vars = subset(num_data, select = -c(Energy.Consumption))\n",
    "vars_names <- names(vars)\n",
    "\n",
    "for (var in vars_names) {\n",
    "  test <- cor.test(energy_data$Energy.Consumption, vars[[var]])\n",
    "  print(test)\n",
    "}"
   ]
  },
  {
   "cell_type": "markdown",
   "id": "172daa6e-66d6-4929-bfd4-65052b3af1ed",
   "metadata": {},
   "source": [
    "\n",
    "***Wynik testu***:\n",
    "\n",
    "-   **Powierzchnia budynku, liczba mieszkańców oraz liczba używanych urządzeń**: bardzo niskie wartości p wskazują, że należy odrzucić hipotezę zerową, co oznacza **istnieje istotna statystycznie korelacja** między tymi zmiennymi a zużyciem energii.\n",
    "\n",
    "-   **Średnia temperatura**: Wartość p = 0.2759 jest znacznie większa niż przyjęty poziom istotności (0.05), co oznacza, że **nie ma podstaw do odrzucenia hipotezy zerowej**. W tym przypadku nie można potwierdzić istnienia istotnej korelacji między średnią temperaturą a zużyciem energii.\n",
    "\n",
    "| Zmienna                   | Parametr t | p-value    |\n",
    "|---------------------------|------------|------------|\n",
    "| Powierzchnia budynku      | 38.726     | \\< 2.2e-16 |\n",
    "| Liczba mieszkańców        | 11.976     | \\< 2.2e-16 |\n",
    "| Liczba używanych urządzeń | 10.403     | \\< 2.2e-16 |\n",
    "| Średnia temperatura       | -1.0901    | 0.2759     |\n",
    "\n",
    "\n",
    "### Macierz korelacji\n",
    "Przedstawiona graficznie macierz informuje nas o wartościach współczynników korelacji Pearsona między zmiennymi.\n",
    "\n",
    "***Interpretacja***: Wartości o barwach niebieskich oznaczają dodatnią korelację między zmiennymi, natomiast te czerwone ujemną. Im ciemniejszy kolor tym wyższy współczynnik."
   ]
  },
  {
   "cell_type": "code",
   "execution_count": 21,
   "id": "1effd880-0ec5-44c6-b382-8c0130b5f74c",
   "metadata": {},
   "outputs": [
    {
     "data": {
      "image/png": "[encoded data removed]",
      "text/plain": [
       "Plot with title \"\""
      ]
     },
     "metadata": {
      "image/png": {
       "height": 420,
       "width": 420
      }
     },
     "output_type": "display_data"
    }
   ],
   "source": [
    "cor_matrix_num <- cor(num_data, use = \"complete.obs\", method = \"pearson\")\n",
    "corrplot(cor_matrix_num, method = \"number\", type = \"upper\", tl.cex = 0.6, tl.col = \"black\")"
   ]
  },
  {
   "cell_type": "markdown",
   "id": "0588bbc6-c6c2-4b80-a49e-b4efebdb38e6",
   "metadata": {},
   "source": [
    "# Model regresji liniowej\n",
    "\n",
    "Teraz utworzę model regresji liniowej korzystając ze zmiennych numerycznych, które wykazały korelacje w testach powyżej, oraz tych pozostałych - kategorycznych. Za pomocą funkcji summary, ocenię ich istotność.\n",
    "\n",
    "***Interpretacja***:\n",
    "\n",
    "-   **Gwiazdki przy zmiennych** to wizualne oznaczenie, które pomaga szybko zorientować się, które zmienne są istotne.\n",
    "\n",
    "    Znaczenie symboli:\n",
    "\n",
    "| Symbol     | Zakres wartości p |\n",
    "|------------|-------------------|\n",
    "| \" **\\*\\*\\*** \" | p \\< 0.001        |\n",
    "| \" **\\*\\*** \"   | 0.001 ≤ p \\< 0.01 |\n",
    "| \" **\\*** \"     | 0.01 ≤ p \\< 0.05  |\n",
    "| \" **.** \"      | 0.05 ≤ p \\< 0.1   |\n",
    "| \" \"        | p ≥ 0.1           |\n",
    "\n",
    "-   **R-squared** i **Adjusted R-squared** to miary statystyczne w modelu regresji, które pokazują, jaki procent zmienności zmiennej zależnej można wytłumaczyć na podstawie zmiennych niezależnych.\n",
    "\n",
    "    R-squared zawsze rośnie lub pozostaje bez zmian, gdy dodajesz nowe zmienne, nawet jeśli są one nieistotne. Adjusted R-squared to zmodyfikowana wersja R-squared, która koryguje wynik, biorąc pod uwagę liczbę zmiennych i liczbę obserwacji. Może zmaleć, jeśli dodasz zmienną, która nie wnosi istotnej informacji.\n",
    "\n",
    "-   **Residual standard error** to przeciętna różnica między przewidywanymi a rzeczywistymi wartościami."
   ]
  },
  {
   "cell_type": "code",
   "execution_count": 22,
   "id": "82b2114e-3dfd-443d-8389-f6211ff0804e",
   "metadata": {},
   "outputs": [
    {
     "data": {
      "text/plain": [
       "\n",
       "Call:\n",
       "lm(formula = Energy.Consumption ~ Square.Footage + Number.of.Occupants + \n",
       "    Appliances.Used + Building.Type + Day.of.Week, data = energy_data)\n",
       "\n",
       "Residuals:\n",
       "    Min      1Q  Median      3Q     Max \n",
       "-64.280 -31.435  -0.629  29.609  68.235 \n",
       "\n",
       "Coefficients:\n",
       "                           Estimate Std. Error t value Pr(>|t|)    \n",
       "(Intercept)               1.937e+03  4.027e+00  480.95   <2e-16 ***\n",
       "Square.Footage            4.994e-02  7.917e-05  630.80   <2e-16 ***\n",
       "Number.of.Occupants       9.982e+00  3.891e-02  256.56   <2e-16 ***\n",
       "Appliances.Used           2.016e+01  8.012e-02  251.59   <2e-16 ***\n",
       "Building.TypeIndustrial   4.973e+02  2.799e+00  177.67   <2e-16 ***\n",
       "Building.TypeResidential -5.031e+02  2.736e+00 -183.89   <2e-16 ***\n",
       "Day.of.WeekWeekend       -4.918e+01  2.259e+00  -21.77   <2e-16 ***\n",
       "---\n",
       "Signif. codes:  0 '***' 0.001 '**' 0.01 '*' 0.05 '.' 0.1 ' ' 1\n",
       "\n",
       "Residual standard error: 35.69 on 993 degrees of freedom\n",
       "Multiple R-squared:  0.9985,\tAdjusted R-squared:  0.9985 \n",
       "F-statistic: 1.137e+05 on 6 and 993 DF,  p-value: < 2.2e-16\n"
      ]
     },
     "metadata": {},
     "output_type": "display_data"
    }
   ],
   "source": [
    "model <- lm(Energy.Consumption ~ \n",
    "     Square.Footage +\n",
    "     Number.of.Occupants + \n",
    "     Appliances.Used +\n",
    "     Building.Type + \n",
    "     Day.of.Week, data = energy_data)\n",
    "\n",
    "summary(model)"
   ]
  },
  {
   "cell_type": "markdown",
   "id": "13db5cb4-ead8-4dec-bf94-19c84bd468aa",
   "metadata": {},
   "source": [
    "***Wyniki***:\n",
    "\n",
    "-   Przy każdej zmiennej pokazał się symbol **\\*\\*\\***, co świadczy o bardzo niskich wartościach p. Każda zmienna jest istotna statystycznie.\n",
    "\n",
    "-   ***R-squared*****:** 0.9985**, *Adjusted R-squared*:** 0.9985\n",
    "\n",
    "    To oznacza, że model tłumaczy aż **99.85% zmienności zużycia energii**, co jest bardzo wysoką wartością. Może to świadczyć o bardzo dobrym dopasowaniu lub przeuczeniu (overfitting), czyli sytuacji, gdy model bardzo dobrze przewiduje dane treningowe, natomiast w przypadku tych testowych wypada dużo gorzej.\n",
    "\n",
    "-   ***Residual standard error***: 35.69\n",
    "\n",
    "    W kontekście skali danych jest to bardzo mała wartość, zatem różnice między wartościami prawdziwymi a przewidzianymi są małe.\n",
    "\n",
    "# Założenia regresji liniowej\n",
    "\n",
    "Sprawdzanie założeń regresji liniowej jest kluczowe, ponieważ gwarantuje wiarygodność i trafność wniosków wyciąganych z modelu. Jeśli te założenia są naruszone, wyniki mogą być błędne lub mylące.\n",
    "\n",
    "### Założenia\n",
    "\n",
    "1.  ***Liniowość***: związek miedzy zmiennymi niezależnymi a zależną jest liniowy.\n",
    "\n",
    "2.  ***Homoskedastyczność reszt***: reszty mają stałą wariancję na wszystkich poziomach zmiennych niezależnych.\n",
    "\n",
    "3.  **Niezależność obserwacji**: brak autokorelacji pomiędzy resztami.\n",
    "\n",
    "4.  ***Normalność reszt***: reszty mają rozkład normalny.\n",
    "\n",
    "5.  ***Brak wielokolinearności***: Zmienne niezależne nie są ze sobą silnie skorelowane.\n",
    "\n",
    "### Wizualizacja diagnostyczna modelu\n",
    "\n",
    "Do sprawdzenia założeń regresji liniowej niezbędny będzie zestaw czterech standardowych wykresów diagnostycznych.\n",
    "\n",
    "1.  **Residuals vs Fitted**\n",
    "\n",
    "    Ten wykres służy do oceny **liniowości** modelu oraz wstępnego sprawdzenia **jednorodności wariancji** reszt.\n",
    "\n",
    "    Jeśli reszty są losowo rozproszone wokół poziomej linii (na poziomie 0), bez wyraźnych wzorców, sugeruje to, że:\n",
    "\n",
    "    -   model dobrze odwzorowuje **liniową zależność**,\n",
    "\n",
    "    -   spełnia założenie **homoskedastyczności** (stałej wariancji).\n",
    "\n",
    "    Jeśli reszty tworzą wzory (np. krzywą), może to świadczyć o:\n",
    "\n",
    "    -   **nieliniowości** modelu,\n",
    "    -   **heteroskedastyczności** (zmiennej wariancji reszt).\n",
    "\n",
    "2.  **Normal Q-Q**\n",
    "\n",
    "    Ten wykres ocenia, czy **reszty mają rozkład normalny**.\n",
    "\n",
    "    Jeśli punkty układają się wzdłuż przekątnej (linii prostej), oznacza to, że rozkład reszt jest zbliżony do **normalnego**.\n",
    "\n",
    "    Odchylenia od linii, zwłaszcza na końcach, mogą wskazywać na:\n",
    "\n",
    "    -   **asymetrię rozkładu reszt**,\n",
    "\n",
    "    -   obecność **wartości odstających**.\n",
    "\n",
    "3.  **Scale-Location (Spread-Location)**\n",
    "\n",
    "    Wykres ten precyzyjniej sprawdza **homoskedastyczność** reszt.\n",
    "\n",
    "    Pokazuje pierwiastek z wartości bezwzględnych standaryzowanych reszt względem wartości dopasowanych.\n",
    "\n",
    "    -   Jeśli punkty są równomiernie rozproszone wokół poziomej linii i nie tworzą wzorca (np. wachlarza czy lejka), oznacza to, że **wariancja reszt jest stała**.\n",
    "\n",
    "    -   Wzrost lub spadek rozrzutu sugeruje **heteroskedastyczność**.\n",
    "\n",
    "4.  **Residuals vs Leverage**\n",
    "\n",
    "    Ten wykres identyfikuje **obserwacje mające duży wpływ na model**, czyli tzw. punkty wpływowe (*influential points*).\n",
    "\n",
    "    Oś X: **wpływ** - miara \"odległości\" obserwacji od średnich wartości zmiennych niezależnych.\n",
    "\n",
    "    Oś Y: **standaryzowane reszty** - jak bardzo obserwacja odbiega od wartości przewidywanej.\n",
    "\n",
    "    Obserwacje o:\n",
    "\n",
    "    -   **dużym wpływ**,\n",
    "\n",
    "    -   **dużych resztach**\n",
    "\n",
    "        mogą nadmiernie wpływać na kształt modelu, zatem należy je dokładniej zbadać.\n",
    "\n",
    "    Jeśli pojawią się punkty znacznie oddalone od reszty (oznaczone numerami), warto sprawdzić, czy nie są to **wartości odstające lub błędne dane**."
   ]
  },
  {
   "cell_type": "code",
   "execution_count": 26,
   "id": "b1d343a0-588a-4966-8f7e-2f81f9d019b3",
   "metadata": {},
   "outputs": [
    {
     "data": {
      "image/png": "[encoded data removed]",
      "text/plain": [
       "plot without title"
      ]
     },
     "metadata": {
      "image/png": {
       "height": 420,
       "width": 420
      }
     },
     "output_type": "display_data"
    },
    {
     "data": {
      "image/png": "[encoded data removed]",
      "text/plain": [
       "Plot with title \"\""
      ]
     },
     "metadata": {
      "image/png": {
       "height": 420,
       "width": 420
      }
     },
     "output_type": "display_data"
    }
   ],
   "source": [
    "autoplot(model)\n",
    "plot(model, which = 4)"
   ]
  },
  {
   "cell_type": "markdown",
   "id": "fab22624-655f-465f-b697-21aab12c9f5f",
   "metadata": {},
   "source": [
    "***Wyniki***:\n",
    "\n",
    "-   **Residuals vs Fitted**: Punkty są rozproszone losowo i równomiernie, nie tworzą żadnych wzorców. Sugeruje to, że założenia o homoskedastyczności i liniowości są zasadne.\n",
    "\n",
    "-   **Normal Q-Q**: Punkty nie ustawiają się idealnie na linii prostej, widać wyraźne odchylenia na końcach wykresów. Może to świadczyć o tym, że rozkład reszt jest nieco spłaszczony i nie formuje się idealnie w rozkład normalny.\n",
    "\n",
    "-   **Scale-Location**: Ponownie punkty są rozproszone równomiernie i nie tworzą wzorców, co jest korzystne dla założenia o homoskedastyczności.\n",
    "\n",
    "-   **Residuals vs Leverage**: Punkty 425, 606, 740 zostały automatycznie oznaczone, co oznacza, że mają trochę większy wpływ lub reszty. Jednak na wykresie **Cooks** distance widać, że nie są znacząco wyższe niż reszta, a ich usunięcie nie wiele by zmieniło.\n",
    "\n",
    "### Test Shapiro-Wilka\n",
    "\n",
    "Wykonam test Shapiro-Wilka, aby dokładnie zbadać normalność rozkładu reszt.\n",
    "|                             |                                       |\n",
    "|-----------------------------|---------------------------------------|\n",
    "| ***Hipoteza zerowa***       | Rozkład reszt jest normalny. (p \\> 0.05)         |\n",
    "| ***Hipoteza alternatywna*** |Rozkład reszt różni się od normalnego (p \\< 0.05).|\n",
    "| ***Poziom istotności***     | 0.05                                  |"
   ]
  },
  {
   "cell_type": "code",
   "execution_count": 29,
   "id": "eda574ce-ac96-435b-b4c5-bbf2a41ec4b7",
   "metadata": {},
   "outputs": [
    {
     "data": {
      "text/plain": [
       "\n",
       "\tShapiro-Wilk normality test\n",
       "\n",
       "data:  sample(residuals, 500)\n",
       "W = 0.95895, p-value = 1.386e-10\n"
      ]
     },
     "metadata": {},
     "output_type": "display_data"
    },
    {
     "data": {
      "image/png": "[encoded data removed]",
      "text/plain": [
       "Plot with title \"Histogram of sample(residuals, 500)\""
      ]
     },
     "metadata": {
      "image/png": {
       "height": 420,
       "width": 420
      }
     },
     "output_type": "display_data"
    }
   ],
   "source": [
    "residuals = residuals(model)\n",
    "hist(sample(residuals, 500))\n",
    "\n",
    "set.seed(432)\n",
    "shapiro.test(sample(residuals, 500))"
   ]
  },
  {
   "cell_type": "markdown",
   "id": "e2f01802-b463-4129-8740-2840f2f63198",
   "metadata": {},
   "source": [
    "***Wynik***:\n",
    "\n",
    "-   Na histogramie widzać, że rozkład jest spłaszczony i znacząco różni się od normalnego.\n",
    "\n",
    "-   Test Shapiro-Wilka zwrócił wartość p = 1.076e-10 \\< 0.05, zatem istnieje powód do odrzucenia hipotezy zerowej na rzecz alternatywnej.\n",
    "\n",
    "### Test Durbina-Watsona\n",
    "\n",
    "Aby zbadać **niezależność obserwacji** korzystam z testu Durbina-Watsona\n",
    "\n",
    "***Poziom istotności***: 0.05\n",
    "\n",
    "***Hipoteza zerowa***: Nie ma autokorelacji pomiędzy resztami (p \\> 0.05).\n",
    "\n",
    "***Hipoteza alternatywna***: Reszty są autokorelowane (p \\< 0.05)."
   ]
  },
  {
   "cell_type": "code",
   "execution_count": 31,
   "id": "07574b34-5b9f-4878-8b88-8b186b90e21c",
   "metadata": {},
   "outputs": [
    {
     "data": {
      "text/plain": [
       "\n",
       "\tDurbin-Watson test\n",
       "\n",
       "data:  model\n",
       "DW = 2.0668, p-value = 0.8546\n",
       "alternative hypothesis: true autocorrelation is greater than 0\n"
      ]
     },
     "metadata": {},
     "output_type": "display_data"
    }
   ],
   "source": [
    "library(lmtest)\n",
    "dwtest(model)"
   ]
  },
  {
   "cell_type": "markdown",
   "id": "184f83d3-1a12-4006-ae6e-e14cb3f703d0",
   "metadata": {},
   "source": [
    "***Wynik***:\n",
    "\n",
    "-   Wartość p = 0.8546 \\> 0.05, nie ma powodu do odrzucenia hipotezy zerowej.\n",
    "\n",
    "### Podsumowanie powyższych wyników\n",
    "\n",
    "-   **Liniowość**: wykres *Residuals vs Fitted* nie wykazuje nieliniowych wzorców, co sugeruje poprawność założenia liniowości.\n",
    "-   **Homoskedastyczność**: rozkład reszt na wykresach *Residuals vs Fitted* oraz *Scale-Location* nie wskazuje na zmienność wariancji - reszty są równomiernie rozproszone.\n",
    "-   **Niezależność obserwacji**: test Durbina-Watsona nie wykazał autokorelacji reszt (p = 0.8546 \\> 0.05), co potwierdza spełnienie założenia.\n",
    "-   **Normalność reszt**: wykres Q-Q sugeruje pewne odchylenia od rozkładu normalnego, co zostało potwierdzone testem Shapiro-Wilka (p \\< 0.05). Oznacza to, że rozkład reszt nie jest w pełni normalny, co warto mieć na uwadze przy interpretacji wyników.\n",
    "-   **Brak wielokolinearności**: macierz korelacji nie wykazała silnych korelacji pomiędzy zmiennymi niezależnymi, co potwierdza brak wielokolinearności w modelu.\n",
    "\n",
    "# Predykcje modelu\n",
    "\n",
    "Sprawdźmy jak model poradzi sobie z danymi testowymi. W tym celu skorzystam z miary o nazwie **średni błąd bezwzględny** (Mean absolute error). Dzięki niej dowiemy jak mocno predykcję różnią się od prawdziwych wartości."
   ]
  },
  {
   "cell_type": "code",
   "execution_count": 37,
   "id": "abf5fb19-62e9-4013-852c-bbd070aba690",
   "metadata": {},
   "outputs": [
    {
     "name": "stdout",
     "output_type": "stream",
     "text": [
      "[1] \"Średni błąd bezwzględny:\"\n"
     ]
    },
    {
     "data": {
      "text/html": [
       "29.1884945761727"
      ],
      "text/latex": [
       "29.1884945761727"
      ],
      "text/markdown": [
       "29.1884945761727"
      ],
      "text/plain": [
       "[1] 29.18849"
      ]
     },
     "metadata": {},
     "output_type": "display_data"
    }
   ],
   "source": [
    "predictions = predict(model, newdata=energy_test_data)\n",
    "print(\"Średni błąd bezwzględny:\", )\n",
    "MAE(energy_test_data$Energy.Consumption, predictions)"
   ]
  },
  {
   "cell_type": "markdown",
   "id": "c91d1692-74e8-4608-9a69-716afc6e0f04",
   "metadata": {},
   "source": [
    "***Wynik***:\n",
    "\n",
    "-   Średni błąd bezwzględny wyniósł **29.18849**, co nie jest dużą wartością w kontekscie skali zmiennej objaśnianej.\n",
    "\n",
    "# Podsumowanie\n",
    "\n",
    "Celem przeprowadzonej analizy, było stworzenie modelu regresji liniowej do prognozowania zużycia energii na podstawie cech budynków oraz czynników środowiskowych. Po wstępnej analizie eksploracyjnej, wykonałem testy korelacji Pearsona, aby wykryć istotne zmienne wpływające na zużycie energii. Najsilniejszą zależność wykazano dla powierzchni budynku (r ≈ 0.77), a umiarkowaną dla liczby mieszkańców oraz liczby używanych urządzeń. Średnia temperatura nie wykazała istotnej korelacji.\n",
    "\n",
    "Na podstawie uzyskanych wyników zbudowano model regresji liniowej, który okazał się statystycznie istotny dla wszystkich uwzględnionych zmiennych. Wysoka wartość R-squared (0.9985) wskazuje na bardzo dobre dopasowanie modelu do danych treningowych.\n",
    "\n",
    "Przeprowadzona diagnostyka wykazała, że większość założeń regresji liniowej została spełniona: zaobserwowano liniowość, homoskedastyczność oraz brak autokorelacji reszt. Jednak test Shapiro-Wilka wykazał odchylenie od normalności rozkładu reszt, co należy mieć na uwadze przy interpretacji wyników.\n",
    "\n",
    "Zastosowanie modelu do danych testowych potwierdziło jego wysoką skuteczność - średni błąd bezwzględny (MAE) wyniósł 29.19, co jest akceptowalne w kontekście skali danych.\n",
    "\n",
    "Podsumowując, opracowany model jest dobrze dopasowany do danych. W dalszych pracach warto rozważyć bardziej zaawansowane modele nieliniowe lub uwzględnić dodatkowe zmienne opisujące charakterystykę budynku i otoczenia, aby jeszcze bardziej zwiększyć trafność prognoz.\n"
   ]
  }
 ],
 "metadata": {
  "kernelspec": {
   "display_name": "R",
   "language": "R",
   "name": "ir"
  },
  "language_info": {
   "codemirror_mode": "r",
   "file_extension": ".r",
   "mimetype": "text/x-r-source",
   "name": "R",
   "pygments_lexer": "r",
   "version": "4.2.2"
  }
 },
 "nbformat": 4,
 "nbformat_minor": 5
}
